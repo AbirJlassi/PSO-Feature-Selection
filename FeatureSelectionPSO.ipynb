{
  "nbformat": 4,
  "nbformat_minor": 0,
  "metadata": {
    "colab": {
      "provenance": []
    },
    "kernelspec": {
      "name": "python3",
      "display_name": "Python 3"
    },
    "language_info": {
      "name": "python"
    }
  },
  "cells": [
    {
      "cell_type": "markdown",
      "source": [
        "# Applying PSO for Feature Selection"
      ],
      "metadata": {
        "id": "dWC7MUMKljXK"
      }
    },
    {
      "cell_type": "markdown",
      "source": [
        "## Goal:\n",
        "Using PSO to automatically select the most relevant features from a dataset to maximize classification accuracy, and reduce feature dimensionality."
      ],
      "metadata": {
        "id": "WQuXmHRTnrVW"
      }
    },
    {
      "cell_type": "markdown",
      "source": [
        "## Particle Swarm Optimization (PSO)\n",
        "Particle Swarm Optimization (PSO) is a metaheuristic optimization algorithm inspired by the collective behavior of birds and fish moving in swarms.\n",
        "\n",
        "Originally developed by Kennedy and Eberhart (1995), PSO is widely used to solve continuous and discrete optimization problems, especially when the objective function is complex, non-linear, or without derivatives."
      ],
      "metadata": {
        "id": "rqxwFr7imGah"
      }
    },
    {
      "cell_type": "markdown",
      "source": [
        "* Each solution is modeled as a **particle** in a search space.\n",
        "\n",
        "A particle has:\n",
        "\n",
        " - A position (candidate solution)\n",
        "\n",
        "* A velocity (direction and speed of movement)\n",
        "\n",
        "Each particle updates its position based on:\n",
        "\n",
        "* Its own best position so far (pbest)\n",
        "\n",
        "* The best known position found by the swarm (gbest)\n",
        "\n",
        "##🔁 Algorithm Steps:\n",
        "1. Initialize a swarm of particles with random binary positions.\n",
        "\n",
        "2. For each particle:\n",
        "\n",
        "- Use the binary mask to select features.\n",
        "\n",
        "- Train a classifier on the selected features.\n",
        "\n",
        "- Evaluate model accuracy via cross-validation.\n",
        "\n",
        "3. Update the personal best (pbest) and global best (gbest).\n",
        "\n",
        "4. Update the velocity and position of each particle.\n",
        "\n",
        "5. Repeat for a number of iterations or until convergence.\n",
        "\n",
        "6. Return the best binary mask found – this represents the optimal feature subset.\n",
        "\n"
      ],
      "metadata": {
        "id": "VryfmUTmnACs"
      }
    },
    {
      "cell_type": "markdown",
      "source": [
        "#Including libraries"
      ],
      "metadata": {
        "id": "nfBPu7O6o4Ld"
      }
    },
    {
      "cell_type": "code",
      "source": [
        "import numpy as np\n",
        "import pandas as pd\n",
        "from sklearn.model_selection import train_test_split\n",
        "from sklearn.preprocessing import StandardScaler\n",
        "from sklearn.metrics import accuracy_score, classification_report\n",
        "from sklearn.neighbors import KNeighborsClassifier\n",
        "from sklearn.svm import SVC\n",
        "from sklearn.ensemble import RandomForestClassifier\n",
        "from sklearn.linear_model import LogisticRegression\n",
        "from sklearn.tree import DecisionTreeClassifier\n",
        "import matplotlib.pyplot as plt\n",
        "import seaborn as sns"
      ],
      "metadata": {
        "id": "t7sDD6K_btFJ"
      },
      "execution_count": 1,
      "outputs": []
    },
    {
      "cell_type": "markdown",
      "source": [
        "#Loading and processing data"
      ],
      "metadata": {
        "id": "f6v4FK0Wo8_V"
      }
    },
    {
      "cell_type": "code",
      "source": [
        "def load_and_preprocess_data(filepath):\n",
        "    \"\"\"Load and preprocess the dataset\"\"\"\n",
        "    # Load data without headers\n",
        "    df = pd.read_csv('Breast.csv', header=None)\n",
        "\n",
        "    # Extract features and target\n",
        "    X = df.iloc[:, :-1].values  # All columns except last\n",
        "    y = df.iloc[:, -1].values   # Last column as target\n",
        "\n",
        "    # Scale features\n",
        "    scaler = StandardScaler()\n",
        "    X_scaled = scaler.fit_transform(X)\n",
        "\n",
        "    return X_scaled, y, df.shape[1]-1  # Return features, target, and num_features"
      ],
      "metadata": {
        "id": "2CfQhX0Cb7oU"
      },
      "execution_count": 17,
      "outputs": []
    },
    {
      "cell_type": "code",
      "source": [
        "def evaluate_classifiers(X, y):\n",
        "    \"\"\"Evaluate multiple classifiers and return results\"\"\"\n",
        "    # Split data\n",
        "    X_train, X_test, y_train, y_test = train_test_split(\n",
        "        X, y, test_size=0.3, random_state=42\n",
        "    )\n",
        "\n",
        "    # Initialize classifiers\n",
        "    classifiers = {\n",
        "        'KNN': KNeighborsClassifier(n_neighbors=5),\n",
        "        'SVM': SVC(kernel='rbf', random_state=42),\n",
        "        'Random Forest': RandomForestClassifier(n_estimators=100, random_state=42),\n",
        "        'Logistic Regression': LogisticRegression(max_iter=1000, random_state=42),\n",
        "        'Decision Tree': DecisionTreeClassifier(random_state=42)\n",
        "    }\n",
        "\n",
        "    results = {}\n",
        "\n",
        "    # Train and evaluate each classifier\n",
        "    for name, clf in classifiers.items():\n",
        "        clf.fit(X_train, y_train)\n",
        "        y_pred = clf.predict(X_test)\n",
        "        accuracy = accuracy_score(y_test, y_pred)\n",
        "        results[name] = accuracy\n",
        "\n",
        "        print(f\"{name} Accuracy: {accuracy:.4f}\")\n",
        "        print(classification_report(y_test, y_pred))\n",
        "        print(\"=\"*60)\n",
        "\n",
        "    return results, classifiers\n",
        "\n",
        "def plot_model_comparison(results):\n",
        "    \"\"\"Visualize classifier performance comparison\"\"\"\n",
        "    plt.figure(figsize=(10, 6))\n",
        "    sns.barplot(x=list(results.keys()), y=list(results.values()))\n",
        "    plt.title('Classifier Accuracy Comparison')\n",
        "    plt.ylabel('Accuracy')\n",
        "    plt.ylim(0.0, 1.0)  # Adjust based on your results\n",
        "    plt.xticks(rotation=45)\n",
        "    plt.show()\n"
      ],
      "metadata": {
        "id": "d4Hzw77Yw9_J"
      },
      "execution_count": 21,
      "outputs": []
    },
    {
      "cell_type": "code",
      "source": [
        "# 1. Load and preprocess data\n",
        "X, y, num_features = load_and_preprocess_data('Breast.csv')\n",
        "print(f\"\\nDataset loaded with {num_features} features and {len(y)} samples\")\n",
        "\n",
        "# 2. Compare classifiers\n",
        "print(\"\\nEvaluating multiple classifiers...\")\n",
        "results, classifiers = evaluate_classifiers(X, y)\n",
        "plot_model_comparison(results)"
      ],
      "metadata": {
        "colab": {
          "base_uri": "https://localhost:8080/",
          "height": 1000
        },
        "id": "vbg9Sp-Hw94O",
        "outputId": "77baf83d-9fdc-4c45-a44e-e7b9f99f59bd"
      },
      "execution_count": 22,
      "outputs": [
        {
          "output_type": "stream",
          "name": "stdout",
          "text": [
            "\n",
            "Dataset loaded with 24482 features and 97 samples\n",
            "\n",
            "Evaluating multiple classifiers...\n",
            "KNN Accuracy: 0.5000\n",
            "              precision    recall  f1-score   support\n",
            "\n",
            "           0       0.48      0.71      0.57        14\n",
            "           1       0.56      0.31      0.40        16\n",
            "\n",
            "    accuracy                           0.50        30\n",
            "   macro avg       0.52      0.51      0.49        30\n",
            "weighted avg       0.52      0.50      0.48        30\n",
            "\n",
            "============================================================\n",
            "SVM Accuracy: 0.6333\n",
            "              precision    recall  f1-score   support\n",
            "\n",
            "           0       0.58      0.79      0.67        14\n",
            "           1       0.73      0.50      0.59        16\n",
            "\n",
            "    accuracy                           0.63        30\n",
            "   macro avg       0.65      0.64      0.63        30\n",
            "weighted avg       0.66      0.63      0.63        30\n",
            "\n",
            "============================================================\n",
            "Random Forest Accuracy: 0.6333\n",
            "              precision    recall  f1-score   support\n",
            "\n",
            "           0       0.57      0.93      0.70        14\n",
            "           1       0.86      0.38      0.52        16\n",
            "\n",
            "    accuracy                           0.63        30\n",
            "   macro avg       0.71      0.65      0.61        30\n",
            "weighted avg       0.72      0.63      0.61        30\n",
            "\n",
            "============================================================\n",
            "Logistic Regression Accuracy: 0.6667\n",
            "              precision    recall  f1-score   support\n",
            "\n",
            "           0       0.62      0.71      0.67        14\n",
            "           1       0.71      0.62      0.67        16\n",
            "\n",
            "    accuracy                           0.67        30\n",
            "   macro avg       0.67      0.67      0.67        30\n",
            "weighted avg       0.67      0.67      0.67        30\n",
            "\n",
            "============================================================\n",
            "Decision Tree Accuracy: 0.8333\n",
            "              precision    recall  f1-score   support\n",
            "\n",
            "           0       0.76      0.93      0.84        14\n",
            "           1       0.92      0.75      0.83        16\n",
            "\n",
            "    accuracy                           0.83        30\n",
            "   macro avg       0.84      0.84      0.83        30\n",
            "weighted avg       0.85      0.83      0.83        30\n",
            "\n",
            "============================================================\n"
          ]
        },
        {
          "output_type": "display_data",
          "data": {
            "text/plain": [
              "<Figure size 1000x600 with 1 Axes>"
            ],
            "image/png": "[encoded data removed]"
          },
          "metadata": {}
        }
      ]
    },
    {
      "cell_type": "markdown",
      "source": [
        "# Using PSO for better feature selection for KNN classifier"
      ],
      "metadata": {
        "id": "GnfcSIhvx8wK"
      }
    },
    {
      "cell_type": "markdown",
      "source": [
        "##Initialize the Swarm\n",
        "Each particle's position represents a potential feature subset, where each dimension corresponds to a feature (1 = selected, 0 = not selected)."
      ],
      "metadata": {
        "id": "DZEJxxOoqN20"
      }
    },
    {
      "cell_type": "code",
      "source": [
        "def initialize_swarm(n_particles, n_features):\n",
        "    \"\"\"Initialize swarm with random positions and velocities\"\"\"\n",
        "    positions = np.random.rand(n_particles, n_features)\n",
        "    velocities = np.random.uniform(-1, 1, (n_particles, n_features))\n",
        "    return positions, velocities"
      ],
      "metadata": {
        "id": "BS2rLKehqUUw"
      },
      "execution_count": 23,
      "outputs": []
    },
    {
      "cell_type": "markdown",
      "source": [
        "##Define the Fitness Function\n",
        "The fitness function evaluates how good a solution (feature subset) is. We'll use classification accuracy as the primary metric with a penalty for large feature subsets."
      ],
      "metadata": {
        "id": "hpsxTH1EqUta"
      }
    },
    {
      "cell_type": "code",
      "source": [
        "def evaluate_fitness(position, X_train, y_train, X_test, y_test, alpha=0.01):\n",
        "    \"\"\"Evaluate fitness of a particle's position\"\"\"\n",
        "    selected = position > 0.5  # Convert continuous to binary\n",
        "\n",
        "    if np.sum(selected) == 0:  # At least one feature must be selected\n",
        "        return -np.inf, 0  # Return fitness and accuracy\n",
        "\n",
        "    # Get selected features\n",
        "    X_train_selected = X_train[:, selected]\n",
        "    X_test_selected = X_test[:, selected]\n",
        "\n",
        "    # Train and evaluate model\n",
        "    clf = KNeighborsClassifier(n_neighbors=5)\n",
        "    clf.fit(X_train_selected, y_train)\n",
        "    y_pred = clf.predict(X_test_selected)\n",
        "    accuracy = accuracy_score(y_test, y_pred)\n",
        "\n",
        "    # Balance accuracy and feature count\n",
        "    n_selected = np.sum(selected)\n",
        "    n_total = X_train.shape[1]\n",
        "    fitness = accuracy - alpha * (n_selected / n_total)\n",
        "\n",
        "    return fitness, accuracy  # Return both fitness and actual accuracy"
      ],
      "metadata": {
        "id": "km7xlLP5qVRx"
      },
      "execution_count": 24,
      "outputs": []
    },
    {
      "cell_type": "markdown",
      "source": [
        "##Core PSO Algorithm (PSO_feature_selection)"
      ],
      "metadata": {
        "id": "ma29IVRYrMSQ"
      }
    },
    {
      "cell_type": "code",
      "source": [
        "def PSO_feature_selection(X, y, n_particles=30, n_iterations=100, w=0.7, c1=1.5, c2=1.5):\n",
        "    \"\"\"Perform feature selection using PSO\"\"\"\n",
        "    # Convert to numpy arrays\n",
        "    X_np = X.values if isinstance(X, pd.DataFrame) else X\n",
        "    y_np = y.values if isinstance(y, pd.Series) else y\n",
        "\n",
        "    # Split data\n",
        "    X_train, X_test, y_train, y_test = train_test_split(\n",
        "        X_np, y_np, test_size=0.3, random_state=42\n",
        "    )\n",
        "\n",
        "    # Initialize swarm\n",
        "    n_features = X_np.shape[1]\n",
        "    positions, velocities = initialize_swarm(n_particles, n_features)\n",
        "\n",
        "    # Initialize best solutions\n",
        "    personal_best_positions = np.copy(positions)\n",
        "    personal_best_fitness = np.array([-np.inf] * n_particles)\n",
        "    personal_best_accuracy = np.array([0] * n_particles)\n",
        "    global_best_position = None\n",
        "    global_best_fitness = -np.inf\n",
        "    global_best_accuracy = 0\n",
        "    fitness_history = []\n",
        "    accuracy_history = []\n",
        "\n",
        "    # PSO main loop\n",
        "    for iteration in range(n_iterations):\n",
        "        for i in range(n_particles):\n",
        "            current_fitness, current_accuracy = evaluate_fitness(\n",
        "                positions[i], X_train, y_train, X_test, y_test\n",
        "            )\n",
        "\n",
        "            # Update personal best\n",
        "            if current_fitness > personal_best_fitness[i]:\n",
        "                personal_best_fitness[i] = current_fitness\n",
        "                personal_best_accuracy[i] = current_accuracy\n",
        "                personal_best_positions[i] = positions[i].copy()\n",
        "\n",
        "                # Update global best\n",
        "                if current_fitness > global_best_fitness:\n",
        "                    global_best_fitness = current_fitness\n",
        "                    global_best_accuracy = current_accuracy\n",
        "                    global_best_position = positions[i].copy()\n",
        "\n",
        "        # Update velocities and positions\n",
        "        for i in range(n_particles):\n",
        "            r1, r2 = np.random.rand(2)\n",
        "            cognitive = c1 * r1 * (personal_best_positions[i] - positions[i])\n",
        "            social = c2 * r2 * (global_best_position - positions[i])\n",
        "\n",
        "            velocities[i] = w * velocities[i] + cognitive + social\n",
        "            positions[i] = positions[i] + velocities[i]\n",
        "            positions[i] = np.clip(positions[i], 0, 1)  # Keep in [0,1] range\n",
        "\n",
        "        fitness_history.append(global_best_fitness)\n",
        "        accuracy_history.append(global_best_accuracy)\n",
        "\n",
        "        #if (iteration + 1) % 10 == 0:\n",
        "        #    print(f\"Iteration {iteration + 1}, Best Accuracy: {global_best_accuracy:.4f}\")\n",
        "\n",
        "    # Convert to binary feature selection\n",
        "    best_features = global_best_position > 0.5\n",
        "\n",
        "    return best_features, fitness_history, accuracy_history, global_best_accuracy\n"
      ],
      "metadata": {
        "id": "kiE87Qy4rEBj"
      },
      "execution_count": 25,
      "outputs": []
    },
    {
      "cell_type": "markdown",
      "source": [
        "\n",
        "\n",
        "* **Velocity** In PSO, velocity determines how a particle moves in the search space.\n",
        "\n",
        "Each particle has a position (current solution) and a velocity (direction and speed of movement).\n",
        "\n",
        "* Velocity is updated based on:\n",
        "\n",
        "-Inertia (w × current velocity): Keeps the particle moving in its current direction.\n",
        "\n",
        "-Cognitive component (c1 × r1 × (personal_best - current)): Moves toward the particle’s best-known position.\n",
        "\n",
        "-Social component (c2 × r2 × (global_best - current)): Moves toward the swarm’s best-known position."
      ],
      "metadata": {
        "id": "OAhtF9WZrZR4"
      }
    },
    {
      "cell_type": "markdown",
      "source": [
        "##Iterative Feature Selection\n",
        "Applies PSO multiple times, each time using only features selected in previous round\n",
        "\n",
        "Stops when accuracy stops improving significantly"
      ],
      "metadata": {
        "id": "d9-ZGGdcrqbV"
      }
    },
    {
      "cell_type": "code",
      "source": [
        "def run_iterative_feature_selection(X, y, max_rounds=10, n_particles=30, n_iterations=100, min_improvement=0.01):\n",
        "    \"\"\"Run PSO feature selection iteratively until accuracy stops improving\"\"\"\n",
        "    current_X = X.copy()\n",
        "    feature_history = []\n",
        "    round_accuracies = []\n",
        "    best_accuracy = 0\n",
        "    best_round_data = None  # To store the best round's data\n",
        "\n",
        "    for round_num in range(1, max_rounds + 1):\n",
        "        print(f\"\\n=== Feature Selection Round {round_num} ===\")\n",
        "        print(f\"Starting with {current_X.shape[1]} features\")\n",
        "\n",
        "        # Run PSO\n",
        "        best_features, _, _, round_accuracy = PSO_feature_selection(\n",
        "            current_X, y,\n",
        "            n_particles=n_particles,\n",
        "            n_iterations=n_iterations\n",
        "        )\n",
        "\n",
        "        # Store this round's data\n",
        "        current_round_data = {\n",
        "            'features': best_features.copy(),\n",
        "            'accuracy': round_accuracy,\n",
        "            'X_selected': current_X[:, best_features] if not isinstance(current_X, pd.DataFrame)\n",
        "                          else current_X[current_X.columns[best_features]].copy()\n",
        "        }\n",
        "\n",
        "        # Check if improvement is significant\n",
        "        if round_num > 1 and (round_accuracy - best_accuracy) < min_improvement:\n",
        "            print(f\"Stopping early - accuracy improvement less than {min_improvement:.4f}\")\n",
        "            # Use the previous round's data since this round didn't improve enough\n",
        "            break\n",
        "\n",
        "        # Update best accuracy and store this as the best round so far\n",
        "        if round_accuracy > best_accuracy:\n",
        "            best_accuracy = round_accuracy\n",
        "            best_round_data = current_round_data\n",
        "\n",
        "        round_accuracies.append(round_accuracy)\n",
        "\n",
        "        # Get selected feature indices\n",
        "        if isinstance(current_X, pd.DataFrame):\n",
        "            selected_features = current_X.columns[best_features].tolist()\n",
        "            current_X = current_X[selected_features]\n",
        "        else:\n",
        "            selected_features = np.where(best_features)[0].tolist()\n",
        "            current_X = current_X[:, best_features]\n",
        "\n",
        "        feature_history.append(selected_features)\n",
        "        print(f\"Selected {len(selected_features)} features with accuracy {round_accuracy:.4f}\")\n",
        "\n",
        "        # Early stopping if we've reduced to very few features\n",
        "        if current_X.shape[1] <= 10:\n",
        "            print(\"Stopping early - reached minimum number of features\")\n",
        "            best_round_data = current_round_data  # This is our final round\n",
        "            break\n",
        "\n",
        "    # Ensure we return the data from the last valid round\n",
        "    if best_round_data is None:\n",
        "        best_round_data = current_round_data\n",
        "\n",
        "    # Reconstruct the feature history up to the best round\n",
        "    valid_feature_history = feature_history[:len(round_accuracies)]\n",
        "\n",
        "    return valid_feature_history, best_round_data['X_selected'], round_accuracies, best_round_data['accuracy']\n"
      ],
      "metadata": {
        "id": "hei_dp4dsKMy"
      },
      "execution_count": 26,
      "outputs": []
    },
    {
      "cell_type": "markdown",
      "source": [
        "## Model evaluation"
      ],
      "metadata": {
        "id": "nt9l33YQsNV_"
      }
    },
    {
      "cell_type": "code",
      "source": [
        "def evaluate_model(X, y, model=KNeighborsClassifier(n_neighbors=5)):\n",
        "    \"\"\"Evaluate model performance\"\"\"\n",
        "    X_train, X_test, y_train, y_test = train_test_split(\n",
        "        X, y, test_size=0.3, random_state=42\n",
        "    )\n",
        "\n",
        "    # Standardize features\n",
        "    scaler = StandardScaler()\n",
        "    X_train = scaler.fit_transform(X_train)\n",
        "    X_test = scaler.transform(X_test)\n",
        "\n",
        "    # Train and evaluate\n",
        "    model.fit(X_train, y_train)\n",
        "    y_pred = model.predict(X_test)\n",
        "    accuracy = accuracy_score(y_test, y_pred)\n",
        "\n",
        "    return accuracy"
      ],
      "metadata": {
        "id": "8gZ0UUlSsMTs"
      },
      "execution_count": 27,
      "outputs": []
    },
    {
      "cell_type": "code",
      "execution_count": 28,
      "metadata": {
        "colab": {
          "base_uri": "https://localhost:8080/"
        },
        "id": "OSQKgPNnbkY5",
        "outputId": "e24b75ce-abfc-4adb-9e21-48a167c36a39"
      },
      "outputs": [
        {
          "output_type": "stream",
          "name": "stdout",
          "text": [
            "\n",
            "Initial Accuracy (All Features): 0.5333\n",
            "Number of Features: 24482\n",
            "\n",
            "=== Feature Selection Round 1 ===\n",
            "Starting with 24482 features\n",
            "Selected 11963 features with accuracy 0.6333\n",
            "\n",
            "=== Feature Selection Round 2 ===\n",
            "Starting with 11963 features\n",
            "Selected 5782 features with accuracy 0.6667\n",
            "\n",
            "=== Feature Selection Round 3 ===\n",
            "Starting with 5782 features\n",
            "Selected 2760 features with accuracy 0.7000\n",
            "\n",
            "=== Feature Selection Round 4 ===\n",
            "Starting with 2760 features\n",
            "Selected 1324 features with accuracy 0.7667\n",
            "\n",
            "=== Feature Selection Round 5 ===\n",
            "Starting with 1324 features\n",
            "Selected 606 features with accuracy 0.8000\n",
            "\n",
            "=== Feature Selection Round 6 ===\n",
            "Starting with 606 features\n",
            "Selected 273 features with accuracy 0.8667\n",
            "\n",
            "=== Feature Selection Round 7 ===\n",
            "Starting with 273 features\n",
            "Stopping early - accuracy improvement less than 0.0010\n",
            "\n",
            "=== Final Results ===\n",
            "Final Accuracy: 0.8667\n",
            "Number of Features: 273\n",
            "Rounds Completed: 6\n",
            "Accuracy Progression: [0.6333333333333333, 0.6666666666666666, 0.7, 0.7666666666666667, 0.8, 0.8666666666666667]\n"
          ]
        }
      ],
      "source": [
        "\n",
        "def main():\n",
        "    # Load your dataset\n",
        "    df = pd.read_csv('Breast.csv', header=None)\n",
        "\n",
        "    # Extract features and target\n",
        "    X = df.iloc[:, :-1].values\n",
        "    y = df.iloc[:, -1].values\n",
        "\n",
        "    # Scale the features\n",
        "    scaler = StandardScaler()\n",
        "    X_scaled = scaler.fit_transform(X)\n",
        "    X = X_scaled\n",
        "\n",
        "    # Initial evaluation\n",
        "    full_accuracy = evaluate_model(X, y)\n",
        "    print(f\"\\nInitial Accuracy (All Features): {full_accuracy:.4f}\")\n",
        "    print(f\"Number of Features: {X.shape[1]}\")\n",
        "\n",
        "    # Run adaptive iterative feature selection\n",
        "    feature_history, X_selected, round_accuracies, final_accuracy = run_iterative_feature_selection(\n",
        "        X, y,\n",
        "        max_rounds=10,\n",
        "        n_particles=50,\n",
        "        n_iterations=100,\n",
        "        min_improvement=0.001\n",
        "    )\n",
        "\n",
        "    # Final evaluation (using the exact same features that produced the final accuracy)\n",
        "    # No need to re-evaluate since we already have the accurate final_accuracy\n",
        "    print(\"\\n=== Final Results ===\")\n",
        "    print(f\"Final Accuracy: {final_accuracy:.4f}\")\n",
        "    print(f\"Number of Features: {X_selected.shape[1]}\")\n",
        "    print(f\"Rounds Completed: {len(round_accuracies)}\")\n",
        "    print(f\"Accuracy Progression: {round_accuracies}\")\n",
        "\n",
        "\n",
        "\n",
        "\n",
        "if __name__ == \"__main__\":\n",
        "    main()"
      ]
    }
  ]
}